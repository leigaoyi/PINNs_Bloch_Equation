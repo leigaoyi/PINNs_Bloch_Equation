{
 "cells": [
  {
   "cell_type": "code",
   "execution_count": 4,
   "id": "b09d0a10",
   "metadata": {},
   "outputs": [],
   "source": [
    "'''\n",
    "将坐标数据导出为表格，方便与COMSOL进行对比\n",
    "'''\n",
    "import numpy as np\n",
    "import pandas as pd\n",
    "\n",
    "rcell = 1.5\n",
    "def plane_YZ(x=0, sample_num = 400):\n",
    "    radius_x = np.sqrt(rcell**2 -x**2)\n",
    "    sample_data = []    \n",
    "\n",
    "    for theta in np.linspace(0, 2*np.pi, sample_num):\n",
    "        for r_pow in np.linspace(0, radius_x**2, sample_num):\n",
    "            y = np.sqrt(r_pow) * np.cos(theta)\n",
    "            z = np.sqrt(r_pow) * np.sin(theta)\n",
    "            sample_data.append((x, y, z)) # 200*200 = 40000个采样点\n",
    "\n",
    "    sample_data = np.asarray(sample_data, dtype=np.float32\n",
    "                            )\n",
    "    return sample_data"
   ]
  },
  {
   "cell_type": "code",
   "execution_count": 7,
   "id": "827dee9c",
   "metadata": {},
   "outputs": [],
   "source": [
    "AxisData = plane_YZ(sample_num=400)\n",
    "\n",
    "# df = pd.DataFrame({\n",
    "#     'Epoch':self.epoch_num,\n",
    "#     'Var D': self.value[0]\n",
    "# }, index=[0])\n",
    "# df.to_csv(self.csvPath, index=None, mode='a', sep=',', columns=['Epoch', 'Var D'], header=False)\n",
    "\n",
    "dfAxis = pd.DataFrame(AxisData)\n",
    "dfAxis.to_csv('./data/Axis.csv', index=None, mode='w',header=False)\n",
    "        "
   ]
  },
  {
   "cell_type": "code",
   "execution_count": null,
   "id": "11137c5f",
   "metadata": {},
   "outputs": [],
   "source": []
  }
 ],
 "metadata": {
  "kernelspec": {
   "display_name": "Python 3 (ipykernel)",
   "language": "python",
   "name": "python3"
  },
  "language_info": {
   "codemirror_mode": {
    "name": "ipython",
    "version": 3
   },
   "file_extension": ".py",
   "mimetype": "text/x-python",
   "name": "python",
   "nbconvert_exporter": "python",
   "pygments_lexer": "ipython3",
   "version": "3.8.8"
  }
 },
 "nbformat": 4,
 "nbformat_minor": 5
}
