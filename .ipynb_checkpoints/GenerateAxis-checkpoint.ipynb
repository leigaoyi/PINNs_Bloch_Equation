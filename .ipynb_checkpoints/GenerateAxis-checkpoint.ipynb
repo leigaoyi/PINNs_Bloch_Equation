{
 "cells": [
  {
   "cell_type": "code",
   "execution_count": null,
   "id": "84c23146",
   "metadata": {},
   "outputs": [],
   "source": [
    "'''\n",
    "将坐标数据导出为表格，方便与COMSOL进行对比\n",
    "'''\n",
    "import numpy as np\n",
    "import pandas as pd\n",
    "\n",
    "def plane_YZ(x=0, sample_num = 400):\n",
    "    radius_x = np.sqrt(rcell**2 -x**2)\n",
    "    sample_data = []    \n",
    "\n",
    "    for theta in np.linspace(0, 2*np.pi, sample_num):\n",
    "        for r_pow in np.linspace(0, radius_x**2, sample_num):\n",
    "            y = np.sqrt(r_pow) * np.cos(theta)\n",
    "            z = np.sqrt(r_pow) * np.sin(theta)\n",
    "            sample_data.append((x, y, z)) # 200*200 = 40000个采样点\n",
    "\n",
    "    sample_data = np.asarray(sample_data, dtype=np.float32\n",
    "                            )\n",
    "    return sample_data"
   ]
  },
  {
   "cell_type": "code",
   "execution_count": null,
   "id": "8027beab",
   "metadata": {},
   "outputs": [],
   "source": []
  }
 ],
 "metadata": {
  "kernelspec": {
   "display_name": "Python 3 (ipykernel)",
   "language": "python",
   "name": "python3"
  },
  "language_info": {
   "codemirror_mode": {
    "name": "ipython",
    "version": 3
   },
   "file_extension": ".py",
   "mimetype": "text/x-python",
   "name": "python",
   "nbconvert_exporter": "python",
   "pygments_lexer": "ipython3",
   "version": "3.8.8"
  }
 },
 "nbformat": 4,
 "nbformat_minor": 5
}
